{
 "cells": [
  {
   "cell_type": "code",
   "execution_count": 1,
   "metadata": {},
   "outputs": [],
   "source": [
    "import os; os.chdir('..')"
   ]
  },
  {
   "cell_type": "code",
   "execution_count": 2,
   "metadata": {},
   "outputs": [],
   "source": [
    "import pandas as pd"
   ]
  },
  {
   "cell_type": "code",
   "execution_count": 4,
   "metadata": {},
   "outputs": [],
   "source": [
    "df= pd.read_excel(\n",
    "    'data/API_EG.USE.ELEC.KH.PC_DS2_en_excel_v2_5998247.xls',\n",
    "    sheet_name='Data'\n",
    ")"
   ]
  },
  {
   "cell_type": "code",
   "execution_count": 5,
   "metadata": {},
   "outputs": [
    {
     "data": {
      "text/html": [
       "<div>\n",
       "<style scoped>\n",
       "    .dataframe tbody tr th:only-of-type {\n",
       "        vertical-align: middle;\n",
       "    }\n",
       "\n",
       "    .dataframe tbody tr th {\n",
       "        vertical-align: top;\n",
       "    }\n",
       "\n",
       "    .dataframe thead th {\n",
       "        text-align: right;\n",
       "    }\n",
       "</style>\n",
       "<table border=\"1\" class=\"dataframe\">\n",
       "  <thead>\n",
       "    <tr style=\"text-align: right;\">\n",
       "      <th></th>\n",
       "      <th>Data Source</th>\n",
       "      <th>World Development Indicators</th>\n",
       "      <th>Unnamed: 2</th>\n",
       "      <th>Unnamed: 3</th>\n",
       "      <th>Unnamed: 4</th>\n",
       "      <th>Unnamed: 5</th>\n",
       "      <th>Unnamed: 6</th>\n",
       "      <th>Unnamed: 7</th>\n",
       "      <th>Unnamed: 8</th>\n",
       "      <th>Unnamed: 9</th>\n",
       "      <th>...</th>\n",
       "      <th>Unnamed: 57</th>\n",
       "      <th>Unnamed: 58</th>\n",
       "      <th>Unnamed: 59</th>\n",
       "      <th>Unnamed: 60</th>\n",
       "      <th>Unnamed: 61</th>\n",
       "      <th>Unnamed: 62</th>\n",
       "      <th>Unnamed: 63</th>\n",
       "      <th>Unnamed: 64</th>\n",
       "      <th>Unnamed: 65</th>\n",
       "      <th>Unnamed: 66</th>\n",
       "    </tr>\n",
       "  </thead>\n",
       "  <tbody>\n",
       "    <tr>\n",
       "      <th>0</th>\n",
       "      <td>Last Updated Date</td>\n",
       "      <td>2023-10-26 00:00:00</td>\n",
       "      <td>NaN</td>\n",
       "      <td>NaN</td>\n",
       "      <td>NaN</td>\n",
       "      <td>NaN</td>\n",
       "      <td>NaN</td>\n",
       "      <td>NaN</td>\n",
       "      <td>NaN</td>\n",
       "      <td>NaN</td>\n",
       "      <td>...</td>\n",
       "      <td>NaN</td>\n",
       "      <td>NaN</td>\n",
       "      <td>NaN</td>\n",
       "      <td>NaN</td>\n",
       "      <td>NaN</td>\n",
       "      <td>NaN</td>\n",
       "      <td>NaN</td>\n",
       "      <td>NaN</td>\n",
       "      <td>NaN</td>\n",
       "      <td>NaN</td>\n",
       "    </tr>\n",
       "    <tr>\n",
       "      <th>1</th>\n",
       "      <td>NaN</td>\n",
       "      <td>NaN</td>\n",
       "      <td>NaN</td>\n",
       "      <td>NaN</td>\n",
       "      <td>NaN</td>\n",
       "      <td>NaN</td>\n",
       "      <td>NaN</td>\n",
       "      <td>NaN</td>\n",
       "      <td>NaN</td>\n",
       "      <td>NaN</td>\n",
       "      <td>...</td>\n",
       "      <td>NaN</td>\n",
       "      <td>NaN</td>\n",
       "      <td>NaN</td>\n",
       "      <td>NaN</td>\n",
       "      <td>NaN</td>\n",
       "      <td>NaN</td>\n",
       "      <td>NaN</td>\n",
       "      <td>NaN</td>\n",
       "      <td>NaN</td>\n",
       "      <td>NaN</td>\n",
       "    </tr>\n",
       "    <tr>\n",
       "      <th>2</th>\n",
       "      <td>Country Name</td>\n",
       "      <td>Country Code</td>\n",
       "      <td>Indicator Name</td>\n",
       "      <td>Indicator Code</td>\n",
       "      <td>1960.0</td>\n",
       "      <td>1961.0</td>\n",
       "      <td>1962.0</td>\n",
       "      <td>1963.0</td>\n",
       "      <td>1964.0</td>\n",
       "      <td>1965.0</td>\n",
       "      <td>...</td>\n",
       "      <td>2013.00000</td>\n",
       "      <td>2014.000000</td>\n",
       "      <td>2015.0</td>\n",
       "      <td>2016.0</td>\n",
       "      <td>2017.0</td>\n",
       "      <td>2018.0</td>\n",
       "      <td>2019.0</td>\n",
       "      <td>2020.0</td>\n",
       "      <td>2021.0</td>\n",
       "      <td>2022.0</td>\n",
       "    </tr>\n",
       "    <tr>\n",
       "      <th>3</th>\n",
       "      <td>Aruba</td>\n",
       "      <td>ABW</td>\n",
       "      <td>Electric power consumption (kWh per capita)</td>\n",
       "      <td>EG.USE.ELEC.KH.PC</td>\n",
       "      <td>NaN</td>\n",
       "      <td>NaN</td>\n",
       "      <td>NaN</td>\n",
       "      <td>NaN</td>\n",
       "      <td>NaN</td>\n",
       "      <td>NaN</td>\n",
       "      <td>...</td>\n",
       "      <td>NaN</td>\n",
       "      <td>NaN</td>\n",
       "      <td>NaN</td>\n",
       "      <td>NaN</td>\n",
       "      <td>NaN</td>\n",
       "      <td>NaN</td>\n",
       "      <td>NaN</td>\n",
       "      <td>NaN</td>\n",
       "      <td>NaN</td>\n",
       "      <td>NaN</td>\n",
       "    </tr>\n",
       "    <tr>\n",
       "      <th>4</th>\n",
       "      <td>Africa Eastern and Southern</td>\n",
       "      <td>AFE</td>\n",
       "      <td>Electric power consumption (kWh per capita)</td>\n",
       "      <td>EG.USE.ELEC.KH.PC</td>\n",
       "      <td>NaN</td>\n",
       "      <td>NaN</td>\n",
       "      <td>NaN</td>\n",
       "      <td>NaN</td>\n",
       "      <td>NaN</td>\n",
       "      <td>NaN</td>\n",
       "      <td>...</td>\n",
       "      <td>691.95809</td>\n",
       "      <td>680.149943</td>\n",
       "      <td>NaN</td>\n",
       "      <td>NaN</td>\n",
       "      <td>NaN</td>\n",
       "      <td>NaN</td>\n",
       "      <td>NaN</td>\n",
       "      <td>NaN</td>\n",
       "      <td>NaN</td>\n",
       "      <td>NaN</td>\n",
       "    </tr>\n",
       "  </tbody>\n",
       "</table>\n",
       "<p>5 rows × 67 columns</p>\n",
       "</div>"
      ],
      "text/plain": [
       "                   Data Source World Development Indicators  \\\n",
       "0            Last Updated Date          2023-10-26 00:00:00   \n",
       "1                          NaN                          NaN   \n",
       "2                 Country Name                 Country Code   \n",
       "3                        Aruba                          ABW   \n",
       "4  Africa Eastern and Southern                          AFE   \n",
       "\n",
       "                                    Unnamed: 2         Unnamed: 3  Unnamed: 4  \\\n",
       "0                                          NaN                NaN         NaN   \n",
       "1                                          NaN                NaN         NaN   \n",
       "2                               Indicator Name     Indicator Code      1960.0   \n",
       "3  Electric power consumption (kWh per capita)  EG.USE.ELEC.KH.PC         NaN   \n",
       "4  Electric power consumption (kWh per capita)  EG.USE.ELEC.KH.PC         NaN   \n",
       "\n",
       "   Unnamed: 5  Unnamed: 6  Unnamed: 7  Unnamed: 8  Unnamed: 9  ...  \\\n",
       "0         NaN         NaN         NaN         NaN         NaN  ...   \n",
       "1         NaN         NaN         NaN         NaN         NaN  ...   \n",
       "2      1961.0      1962.0      1963.0      1964.0      1965.0  ...   \n",
       "3         NaN         NaN         NaN         NaN         NaN  ...   \n",
       "4         NaN         NaN         NaN         NaN         NaN  ...   \n",
       "\n",
       "   Unnamed: 57  Unnamed: 58  Unnamed: 59  Unnamed: 60  Unnamed: 61  \\\n",
       "0          NaN          NaN          NaN          NaN          NaN   \n",
       "1          NaN          NaN          NaN          NaN          NaN   \n",
       "2   2013.00000  2014.000000       2015.0       2016.0       2017.0   \n",
       "3          NaN          NaN          NaN          NaN          NaN   \n",
       "4    691.95809   680.149943          NaN          NaN          NaN   \n",
       "\n",
       "   Unnamed: 62  Unnamed: 63  Unnamed: 64  Unnamed: 65  Unnamed: 66  \n",
       "0          NaN          NaN          NaN          NaN          NaN  \n",
       "1          NaN          NaN          NaN          NaN          NaN  \n",
       "2       2018.0       2019.0       2020.0       2021.0       2022.0  \n",
       "3          NaN          NaN          NaN          NaN          NaN  \n",
       "4          NaN          NaN          NaN          NaN          NaN  \n",
       "\n",
       "[5 rows x 67 columns]"
      ]
     },
     "execution_count": 5,
     "metadata": {},
     "output_type": "execute_result"
    }
   ],
   "source": [
    "df.head()"
   ]
  },
  {
   "cell_type": "code",
   "execution_count": 6,
   "metadata": {},
   "outputs": [],
   "source": [
    "df.columns= df.iloc[2]\n"
   ]
  },
  {
   "cell_type": "code",
   "execution_count": 8,
   "metadata": {},
   "outputs": [],
   "source": [
    "df= df.iloc[3:]"
   ]
  },
  {
   "cell_type": "code",
   "execution_count": 10,
   "metadata": {},
   "outputs": [],
   "source": [
    "df.to_csv(\n",
    "    'data/Electric Power Consumption.csv',\n",
    "    index=False\n",
    ")"
   ]
  },
  {
   "cell_type": "code",
   "execution_count": 23,
   "metadata": {},
   "outputs": [],
   "source": [
    "df= pd.read_csv(\n",
    "    'data/Electric Power Consumption.csv'\n",
    ")"
   ]
  },
  {
   "cell_type": "code",
   "execution_count": 24,
   "metadata": {},
   "outputs": [
    {
     "data": {
      "text/html": [
       "<div>\n",
       "<style scoped>\n",
       "    .dataframe tbody tr th:only-of-type {\n",
       "        vertical-align: middle;\n",
       "    }\n",
       "\n",
       "    .dataframe tbody tr th {\n",
       "        vertical-align: top;\n",
       "    }\n",
       "\n",
       "    .dataframe thead th {\n",
       "        text-align: right;\n",
       "    }\n",
       "</style>\n",
       "<table border=\"1\" class=\"dataframe\">\n",
       "  <thead>\n",
       "    <tr style=\"text-align: right;\">\n",
       "      <th></th>\n",
       "      <th>Country Name</th>\n",
       "      <th>Country Code</th>\n",
       "      <th>Indicator Name</th>\n",
       "      <th>Indicator Code</th>\n",
       "      <th>1960.0</th>\n",
       "      <th>1961.0</th>\n",
       "      <th>1962.0</th>\n",
       "      <th>1963.0</th>\n",
       "      <th>1964.0</th>\n",
       "      <th>1965.0</th>\n",
       "      <th>...</th>\n",
       "      <th>2013.0</th>\n",
       "      <th>2014.0</th>\n",
       "      <th>2015.0</th>\n",
       "      <th>2016.0</th>\n",
       "      <th>2017.0</th>\n",
       "      <th>2018.0</th>\n",
       "      <th>2019.0</th>\n",
       "      <th>2020.0</th>\n",
       "      <th>2021.0</th>\n",
       "      <th>2022.0</th>\n",
       "    </tr>\n",
       "  </thead>\n",
       "  <tbody>\n",
       "    <tr>\n",
       "      <th>0</th>\n",
       "      <td>Aruba</td>\n",
       "      <td>ABW</td>\n",
       "      <td>Electric power consumption (kWh per capita)</td>\n",
       "      <td>EG.USE.ELEC.KH.PC</td>\n",
       "      <td>NaN</td>\n",
       "      <td>NaN</td>\n",
       "      <td>NaN</td>\n",
       "      <td>NaN</td>\n",
       "      <td>NaN</td>\n",
       "      <td>NaN</td>\n",
       "      <td>...</td>\n",
       "      <td>NaN</td>\n",
       "      <td>NaN</td>\n",
       "      <td>NaN</td>\n",
       "      <td>NaN</td>\n",
       "      <td>NaN</td>\n",
       "      <td>NaN</td>\n",
       "      <td>NaN</td>\n",
       "      <td>NaN</td>\n",
       "      <td>NaN</td>\n",
       "      <td>NaN</td>\n",
       "    </tr>\n",
       "    <tr>\n",
       "      <th>1</th>\n",
       "      <td>Africa Eastern and Southern</td>\n",
       "      <td>AFE</td>\n",
       "      <td>Electric power consumption (kWh per capita)</td>\n",
       "      <td>EG.USE.ELEC.KH.PC</td>\n",
       "      <td>NaN</td>\n",
       "      <td>NaN</td>\n",
       "      <td>NaN</td>\n",
       "      <td>NaN</td>\n",
       "      <td>NaN</td>\n",
       "      <td>NaN</td>\n",
       "      <td>...</td>\n",
       "      <td>691.958090</td>\n",
       "      <td>680.149943</td>\n",
       "      <td>NaN</td>\n",
       "      <td>NaN</td>\n",
       "      <td>NaN</td>\n",
       "      <td>NaN</td>\n",
       "      <td>NaN</td>\n",
       "      <td>NaN</td>\n",
       "      <td>NaN</td>\n",
       "      <td>NaN</td>\n",
       "    </tr>\n",
       "    <tr>\n",
       "      <th>2</th>\n",
       "      <td>Afghanistan</td>\n",
       "      <td>AFG</td>\n",
       "      <td>Electric power consumption (kWh per capita)</td>\n",
       "      <td>EG.USE.ELEC.KH.PC</td>\n",
       "      <td>NaN</td>\n",
       "      <td>NaN</td>\n",
       "      <td>NaN</td>\n",
       "      <td>NaN</td>\n",
       "      <td>NaN</td>\n",
       "      <td>NaN</td>\n",
       "      <td>...</td>\n",
       "      <td>NaN</td>\n",
       "      <td>NaN</td>\n",
       "      <td>NaN</td>\n",
       "      <td>NaN</td>\n",
       "      <td>NaN</td>\n",
       "      <td>NaN</td>\n",
       "      <td>NaN</td>\n",
       "      <td>NaN</td>\n",
       "      <td>NaN</td>\n",
       "      <td>NaN</td>\n",
       "    </tr>\n",
       "    <tr>\n",
       "      <th>3</th>\n",
       "      <td>Africa Western and Central</td>\n",
       "      <td>AFW</td>\n",
       "      <td>Electric power consumption (kWh per capita)</td>\n",
       "      <td>EG.USE.ELEC.KH.PC</td>\n",
       "      <td>NaN</td>\n",
       "      <td>NaN</td>\n",
       "      <td>NaN</td>\n",
       "      <td>NaN</td>\n",
       "      <td>NaN</td>\n",
       "      <td>NaN</td>\n",
       "      <td>...</td>\n",
       "      <td>178.422404</td>\n",
       "      <td>183.440206</td>\n",
       "      <td>NaN</td>\n",
       "      <td>NaN</td>\n",
       "      <td>NaN</td>\n",
       "      <td>NaN</td>\n",
       "      <td>NaN</td>\n",
       "      <td>NaN</td>\n",
       "      <td>NaN</td>\n",
       "      <td>NaN</td>\n",
       "    </tr>\n",
       "    <tr>\n",
       "      <th>4</th>\n",
       "      <td>Angola</td>\n",
       "      <td>AGO</td>\n",
       "      <td>Electric power consumption (kWh per capita)</td>\n",
       "      <td>EG.USE.ELEC.KH.PC</td>\n",
       "      <td>NaN</td>\n",
       "      <td>NaN</td>\n",
       "      <td>NaN</td>\n",
       "      <td>NaN</td>\n",
       "      <td>NaN</td>\n",
       "      <td>NaN</td>\n",
       "      <td>...</td>\n",
       "      <td>278.808255</td>\n",
       "      <td>310.081668</td>\n",
       "      <td>NaN</td>\n",
       "      <td>NaN</td>\n",
       "      <td>NaN</td>\n",
       "      <td>NaN</td>\n",
       "      <td>NaN</td>\n",
       "      <td>NaN</td>\n",
       "      <td>NaN</td>\n",
       "      <td>NaN</td>\n",
       "    </tr>\n",
       "  </tbody>\n",
       "</table>\n",
       "<p>5 rows × 67 columns</p>\n",
       "</div>"
      ],
      "text/plain": [
       "                  Country Name Country Code  \\\n",
       "0                        Aruba          ABW   \n",
       "1  Africa Eastern and Southern          AFE   \n",
       "2                  Afghanistan          AFG   \n",
       "3   Africa Western and Central          AFW   \n",
       "4                       Angola          AGO   \n",
       "\n",
       "                                Indicator Name     Indicator Code  1960.0  \\\n",
       "0  Electric power consumption (kWh per capita)  EG.USE.ELEC.KH.PC     NaN   \n",
       "1  Electric power consumption (kWh per capita)  EG.USE.ELEC.KH.PC     NaN   \n",
       "2  Electric power consumption (kWh per capita)  EG.USE.ELEC.KH.PC     NaN   \n",
       "3  Electric power consumption (kWh per capita)  EG.USE.ELEC.KH.PC     NaN   \n",
       "4  Electric power consumption (kWh per capita)  EG.USE.ELEC.KH.PC     NaN   \n",
       "\n",
       "   1961.0  1962.0  1963.0  1964.0  1965.0  ...      2013.0      2014.0  \\\n",
       "0     NaN     NaN     NaN     NaN     NaN  ...         NaN         NaN   \n",
       "1     NaN     NaN     NaN     NaN     NaN  ...  691.958090  680.149943   \n",
       "2     NaN     NaN     NaN     NaN     NaN  ...         NaN         NaN   \n",
       "3     NaN     NaN     NaN     NaN     NaN  ...  178.422404  183.440206   \n",
       "4     NaN     NaN     NaN     NaN     NaN  ...  278.808255  310.081668   \n",
       "\n",
       "   2015.0  2016.0  2017.0  2018.0  2019.0  2020.0  2021.0  2022.0  \n",
       "0     NaN     NaN     NaN     NaN     NaN     NaN     NaN     NaN  \n",
       "1     NaN     NaN     NaN     NaN     NaN     NaN     NaN     NaN  \n",
       "2     NaN     NaN     NaN     NaN     NaN     NaN     NaN     NaN  \n",
       "3     NaN     NaN     NaN     NaN     NaN     NaN     NaN     NaN  \n",
       "4     NaN     NaN     NaN     NaN     NaN     NaN     NaN     NaN  \n",
       "\n",
       "[5 rows x 67 columns]"
      ]
     },
     "execution_count": 24,
     "metadata": {},
     "output_type": "execute_result"
    }
   ],
   "source": [
    "df.head()"
   ]
  },
  {
   "cell_type": "code",
   "execution_count": 25,
   "metadata": {},
   "outputs": [
    {
     "data": {
      "text/plain": [
       "Index(['Country Name', 'Country Code', 'Indicator Name', 'Indicator Code',\n",
       "       '1960.0', '1961.0', '1962.0', '1963.0', '1964.0', '1965.0', '1966.0',\n",
       "       '1967.0', '1968.0', '1969.0', '1970.0', '1971.0', '1972.0', '1973.0',\n",
       "       '1974.0', '1975.0', '1976.0', '1977.0', '1978.0', '1979.0', '1980.0',\n",
       "       '1981.0', '1982.0', '1983.0', '1984.0', '1985.0', '1986.0', '1987.0',\n",
       "       '1988.0', '1989.0', '1990.0', '1991.0', '1992.0', '1993.0', '1994.0',\n",
       "       '1995.0', '1996.0', '1997.0', '1998.0', '1999.0', '2000.0', '2001.0',\n",
       "       '2002.0', '2003.0', '2004.0', '2005.0', '2006.0', '2007.0', '2008.0',\n",
       "       '2009.0', '2010.0', '2011.0', '2012.0', '2013.0', '2014.0', '2015.0',\n",
       "       '2016.0', '2017.0', '2018.0', '2019.0', '2020.0', '2021.0', '2022.0'],\n",
       "      dtype='object')"
      ]
     },
     "execution_count": 25,
     "metadata": {},
     "output_type": "execute_result"
    }
   ],
   "source": [
    "df.columns"
   ]
  },
  {
   "cell_type": "code",
   "execution_count": 47,
   "metadata": {},
   "outputs": [],
   "source": [
    "relations_v2= []\n",
    "\n",
    "def add_relations(subject, verb, object):\n",
    "    d= {\n",
    "        \"subject\": subject,\n",
    "        \"verb\": verb,\n",
    "        \"object\": object\n",
    "    }\n",
    "    relations_v2.append(d)"
   ]
  },
  {
   "cell_type": "code",
   "execution_count": 27,
   "metadata": {},
   "outputs": [
    {
     "data": {
      "text/plain": [
       "266"
      ]
     },
     "execution_count": 27,
     "metadata": {},
     "output_type": "execute_result"
    }
   ],
   "source": [
    "df.__len__()"
   ]
  },
  {
   "cell_type": "code",
   "execution_count": 29,
   "metadata": {},
   "outputs": [
    {
     "data": {
      "text/plain": [
       "array(['Country Name', 'Country Code', 'Indicator Name', 'Indicator Code',\n",
       "       '1960.0 (kWh per capita)', '1961.0 (kWh per capita)',\n",
       "       '1962.0 (kWh per capita)', '1963.0 (kWh per capita)',\n",
       "       '1964.0 (kWh per capita)', '1965.0 (kWh per capita)',\n",
       "       '1966.0 (kWh per capita)', '1967.0 (kWh per capita)',\n",
       "       '1968.0 (kWh per capita)', '1969.0 (kWh per capita)',\n",
       "       '1970.0 (kWh per capita)', '1971.0 (kWh per capita)',\n",
       "       '1972.0 (kWh per capita)', '1973.0 (kWh per capita)',\n",
       "       '1974.0 (kWh per capita)', '1975.0 (kWh per capita)',\n",
       "       '1976.0 (kWh per capita)', '1977.0 (kWh per capita)',\n",
       "       '1978.0 (kWh per capita)', '1979.0 (kWh per capita)',\n",
       "       '1980.0 (kWh per capita)', '1981.0 (kWh per capita)',\n",
       "       '1982.0 (kWh per capita)', '1983.0 (kWh per capita)',\n",
       "       '1984.0 (kWh per capita)', '1985.0 (kWh per capita)',\n",
       "       '1986.0 (kWh per capita)', '1987.0 (kWh per capita)',\n",
       "       '1988.0 (kWh per capita)', '1989.0 (kWh per capita)',\n",
       "       '1990.0 (kWh per capita)', '1991.0 (kWh per capita)',\n",
       "       '1992.0 (kWh per capita)', '1993.0 (kWh per capita)',\n",
       "       '1994.0 (kWh per capita)', '1995.0 (kWh per capita)',\n",
       "       '1996.0 (kWh per capita)', '1997.0 (kWh per capita)',\n",
       "       '1998.0 (kWh per capita)', '1999.0 (kWh per capita)',\n",
       "       '2000.0 (kWh per capita)', '2001.0 (kWh per capita)',\n",
       "       '2002.0 (kWh per capita)', '2003.0 (kWh per capita)',\n",
       "       '2004.0 (kWh per capita)', '2005.0 (kWh per capita)',\n",
       "       '2006.0 (kWh per capita)', '2007.0 (kWh per capita)',\n",
       "       '2008.0 (kWh per capita)', '2009.0 (kWh per capita)',\n",
       "       '2010.0 (kWh per capita)', '2011.0 (kWh per capita)',\n",
       "       '2012.0 (kWh per capita)', '2013.0 (kWh per capita)',\n",
       "       '2014.0 (kWh per capita)', '2015.0 (kWh per capita)',\n",
       "       '2016.0 (kWh per capita)', '2017.0 (kWh per capita)',\n",
       "       '2018.0 (kWh per capita)', '2019.0 (kWh per capita)',\n",
       "       '2020.0 (kWh per capita)', '2021.0 (kWh per capita)',\n",
       "       '2022.0 (kWh per capita)'], dtype=object)"
      ]
     },
     "execution_count": 29,
     "metadata": {},
     "output_type": "execute_result"
    }
   ],
   "source": [
    "df_columns= df.columns.values.copy()\n",
    "for i in range(4, len(df_columns)):\n",
    "    df_columns[i]= f'{df_columns[i]} (kWh per capita)'\n",
    "df_columns"
   ]
  },
  {
   "cell_type": "code",
   "execution_count": null,
   "metadata": {},
   "outputs": [],
   "source": [
    "for i in range(df.__len__()):\n",
    "# for i in range(1):\n",
    "    temp_i= df.iloc[i].values\n",
    "    subject_i= temp_i[0]\n",
    "    for j in range (1, len(temp_i)):\n",
    "        # print(f'{df_columns[j]}: ', str(temp_i[j]))\n",
    "        object_j= temp_i[j]\n",
    "        verb_j= df_columns[j]\n",
    "        print(f\"{subject_i}->{verb_j}->{object_j}\")\n",
    "        add_relations(subject_i, verb_j, str(object_j))\n"
   ]
  },
  {
   "cell_type": "code",
   "execution_count": 36,
   "metadata": {},
   "outputs": [
    {
     "data": {
      "text/plain": [
       "17556"
      ]
     },
     "execution_count": 36,
     "metadata": {},
     "output_type": "execute_result"
    }
   ],
   "source": [
    "len(relations_v2)"
   ]
  },
  {
   "cell_type": "code",
   "execution_count": 49,
   "metadata": {},
   "outputs": [
    {
     "data": {
      "text/plain": [
       "[{'subject': 'Aruba', 'verb': 'Country Code', 'object': 'ABW'},\n",
       " {'subject': 'Aruba',\n",
       "  'verb': 'Indicator Name',\n",
       "  'object': 'Electric power consumption (kWh per capita)'},\n",
       " {'subject': 'Aruba', 'verb': 'Indicator Code', 'object': 'EG.USE.ELEC.KH.PC'},\n",
       " {'subject': 'Aruba', 'verb': '1960.0 (kWh per capita)', 'object': 'nan'},\n",
       " {'subject': 'Aruba', 'verb': '1961.0 (kWh per capita)', 'object': 'nan'},\n",
       " {'subject': 'Aruba', 'verb': '1962.0 (kWh per capita)', 'object': 'nan'},\n",
       " {'subject': 'Aruba', 'verb': '1963.0 (kWh per capita)', 'object': 'nan'},\n",
       " {'subject': 'Aruba', 'verb': '1964.0 (kWh per capita)', 'object': 'nan'},\n",
       " {'subject': 'Aruba', 'verb': '1965.0 (kWh per capita)', 'object': 'nan'},\n",
       " {'subject': 'Aruba', 'verb': '1966.0 (kWh per capita)', 'object': 'nan'}]"
      ]
     },
     "execution_count": 49,
     "metadata": {},
     "output_type": "execute_result"
    }
   ],
   "source": [
    "relations_v2[:10]"
   ]
  },
  {
   "cell_type": "code",
   "execution_count": 41,
   "metadata": {},
   "outputs": [],
   "source": [
    "import json"
   ]
  },
  {
   "cell_type": "code",
   "execution_count": 42,
   "metadata": {},
   "outputs": [],
   "source": [
    "\n",
    "previous_relations= json.load(open(\"Entities/relation.json\"))"
   ]
  },
  {
   "cell_type": "code",
   "execution_count": 50,
   "metadata": {},
   "outputs": [
    {
     "data": {
      "text/plain": [
       "3220"
      ]
     },
     "execution_count": 50,
     "metadata": {},
     "output_type": "execute_result"
    }
   ],
   "source": [
    "len(previous_relations)"
   ]
  },
  {
   "cell_type": "code",
   "execution_count": 45,
   "metadata": {},
   "outputs": [],
   "source": [
    "total_relations= previous_relations+relations_v2"
   ]
  },
  {
   "cell_type": "code",
   "execution_count": 46,
   "metadata": {},
   "outputs": [],
   "source": [
    "json.dump(\n",
    "    total_relations,\n",
    "    open(\"Entities/new_relations.json\", \"w\")\n",
    ")"
   ]
  },
  {
   "cell_type": "code",
   "execution_count": null,
   "metadata": {},
   "outputs": [],
   "source": []
  }
 ],
 "metadata": {
  "kernelspec": {
   "display_name": "venv",
   "language": "python",
   "name": "python3"
  },
  "language_info": {
   "codemirror_mode": {
    "name": "ipython",
    "version": 3
   },
   "file_extension": ".py",
   "mimetype": "text/x-python",
   "name": "python",
   "nbconvert_exporter": "python",
   "pygments_lexer": "ipython3",
   "version": "3.10.12"
  }
 },
 "nbformat": 4,
 "nbformat_minor": 2
}
